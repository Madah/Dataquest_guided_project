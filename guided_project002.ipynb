{
 "cells": [
  {
   "cell_type": "markdown",
   "metadata": {
    "collapsed": true
   },
   "source": [
    "# Summary of this curse\n",
    "\n",
    "- how to work with strings\n",
    "- object-oriented programming\n",
    "- dates and times"
   ]
  },
  {
   "cell_type": "markdown",
   "metadata": {
    "collapsed": true
   },
   "source": [
    "We are interested in titles begining with:\n",
    "- Ask HN\n",
    "- Show HN\n",
    "\n",
    "Let's compare these types of posts to determine:\n",
    "- which receives more comments on average\n",
    "- at which time do posts receive more comments on average\n"
   ]
  },
  {
   "cell_type": "markdown",
   "metadata": {},
   "source": [
    "# Importing the libraries needed and reading the dataset"
   ]
  },
  {
   "cell_type": "code",
   "execution_count": 1,
   "metadata": {
    "collapsed": true
   },
   "outputs": [],
   "source": [
    "from csv import reader\n",
    "hn = list(reader(open('hacker_news.csv')))"
   ]
  },
  {
   "cell_type": "code",
   "execution_count": 2,
   "metadata": {
    "collapsed": false
   },
   "outputs": [
    {
     "name": "stdout",
     "output_type": "stream",
     "text": [
      "['id', 'title', 'url', 'num_points', 'num_comments', 'author', 'created_at']\n",
      "\n",
      "\n",
      "['12224879', 'Interactive Dynamic Video', 'http://www.interactivedynamicvideo.com/', '386', '52', 'ne0phyte', '8/4/2016 11:52']\n",
      "\n",
      "\n",
      "['10975351', 'How to Use Open Source and Shut the Fuck Up at the Same Time', 'http://hueniverse.com/2016/01/26/how-to-use-open-source-and-shut-the-fuck-up-at-the-same-time/', '39', '10', 'josep2', '1/26/2016 19:30']\n",
      "\n",
      "\n",
      "['11964716', \"Florida DJs May Face Felony for April Fools' Water Joke\", 'http://www.thewire.com/entertainment/2013/04/florida-djs-april-fools-water-joke/63798/', '2', '1', 'vezycash', '6/23/2016 22:20']\n",
      "\n",
      "\n",
      "['11919867', 'Technology ventures: From Idea to Enterprise', 'https://www.amazon.com/Technology-Ventures-Enterprise-Thomas-Byers/dp/0073523429', '3', '1', 'hswarna', '6/17/2016 0:01']\n"
     ]
    }
   ],
   "source": [
    "#print(hn[:4])\n",
    "print(hn[0])\n",
    "print('\\n')\n",
    "print(hn[1])\n",
    "print('\\n')\n",
    "print(hn[2])\n",
    "print('\\n')\n",
    "print(hn[3])\n",
    "print('\\n')\n",
    "print(hn[4])"
   ]
  },
  {
   "cell_type": "code",
   "execution_count": 3,
   "metadata": {
    "collapsed": false
   },
   "outputs": [],
   "source": [
    "# extracting the header\n",
    "headers = hn[0]"
   ]
  },
  {
   "cell_type": "code",
   "execution_count": 4,
   "metadata": {
    "collapsed": true
   },
   "outputs": [],
   "source": [
    "# removing the header from the dataset\n",
    "hn = hn[1:]"
   ]
  },
  {
   "cell_type": "code",
   "execution_count": 5,
   "metadata": {
    "collapsed": false
   },
   "outputs": [
    {
     "name": "stdout",
     "output_type": "stream",
     "text": [
      "['id', 'title', 'url', 'num_points', 'num_comments', 'author', 'created_at']\n",
      "\n",
      "\n",
      "['12224879', 'Interactive Dynamic Video', 'http://www.interactivedynamicvideo.com/', '386', '52', 'ne0phyte', '8/4/2016 11:52']\n",
      "\n",
      "\n",
      "['10975351', 'How to Use Open Source and Shut the Fuck Up at the Same Time', 'http://hueniverse.com/2016/01/26/how-to-use-open-source-and-shut-the-fuck-up-at-the-same-time/', '39', '10', 'josep2', '1/26/2016 19:30']\n",
      "\n",
      "\n",
      "['11964716', \"Florida DJs May Face Felony for April Fools' Water Joke\", 'http://www.thewire.com/entertainment/2013/04/florida-djs-april-fools-water-joke/63798/', '2', '1', 'vezycash', '6/23/2016 22:20']\n",
      "\n",
      "\n",
      "['11919867', 'Technology ventures: From Idea to Enterprise', 'https://www.amazon.com/Technology-Ventures-Enterprise-Thomas-Byers/dp/0073523429', '3', '1', 'hswarna', '6/17/2016 0:01']\n"
     ]
    }
   ],
   "source": [
    "print(headers)\n",
    "print('\\n')\n",
    "print(hn[0])\n",
    "print('\\n')\n",
    "print(hn[1])\n",
    "print('\\n')\n",
    "print(hn[2])\n",
    "print('\\n')\n",
    "print(hn[3])"
   ]
  },
  {
   "cell_type": "markdown",
   "metadata": {
    "collapsed": true
   },
   "source": [
    "# Moving to filter out the data\n",
    "\n",
    "Now to clean the data and keep just the posts that start with:\n",
    "- Ask HN\n",
    "- Show HN"
   ]
  },
  {
   "cell_type": "code",
   "execution_count": 9,
   "metadata": {
    "collapsed": false
   },
   "outputs": [
    {
     "name": "stdout",
     "output_type": "stream",
     "text": [
      "1744\n",
      "1162\n",
      "17194\n"
     ]
    }
   ],
   "source": [
    "ask_posts = []\n",
    "show_posts = []\n",
    "other_posts = []\n",
    "\n",
    "for row in hn:\n",
    "    title = row[1] #assigning the title to a variable\n",
    "    \n",
    "    if title.lower().startswith('ask hn'):\n",
    "        ask_posts.append(row)\n",
    "    elif title.lower().startswith('show hn'):\n",
    "        show_posts.append(row)\n",
    "    else:\n",
    "        other_posts.append(row)\n",
    "        \n",
    "print(len(ask_posts))\n",
    "print(len(show_posts))\n",
    "print(len(other_posts))"
   ]
  },
  {
   "cell_type": "code",
   "execution_count": 10,
   "metadata": {
    "collapsed": false,
    "scrolled": true
   },
   "outputs": [
    {
     "name": "stdout",
     "output_type": "stream",
     "text": [
      "[['12296411', 'Ask HN: How to improve my personal website?', '', '2', '6', 'ahmedbaracat', '8/16/2016 9:55'], ['10610020', 'Ask HN: Am I the only one outraged by Twitter shutting down share counts?', '', '28', '29', 'tkfx', '11/22/2015 13:43'], ['11610310', 'Ask HN: Aby recent changes to CSS that broke mobile?', '', '1', '1', 'polskibus', '5/2/2016 10:14']]\n",
      "[['10627194', 'Show HN: Wio Link  ESP8266 Based Web of Things Hardware Development Platform', 'https://iot.seeed.cc', '26', '22', 'kfihihc', '11/25/2015 14:03'], ['10646440', 'Show HN: Something pointless I made', 'http://dn.ht/picklecat/', '747', '102', 'dhotson', '11/29/2015 22:46'], ['11590768', 'Show HN: Shanhu.io, a programming playground powered by e8vm', 'https://shanhu.io', '1', '1', 'h8liu', '4/28/2016 18:05']]\n",
      "[['12224879', 'Interactive Dynamic Video', 'http://www.interactivedynamicvideo.com/', '386', '52', 'ne0phyte', '8/4/2016 11:52'], ['10975351', 'How to Use Open Source and Shut the Fuck Up at the Same Time', 'http://hueniverse.com/2016/01/26/how-to-use-open-source-and-shut-the-fuck-up-at-the-same-time/', '39', '10', 'josep2', '1/26/2016 19:30'], ['11964716', \"Florida DJs May Face Felony for April Fools' Water Joke\", 'http://www.thewire.com/entertainment/2013/04/florida-djs-april-fools-water-joke/63798/', '2', '1', 'vezycash', '6/23/2016 22:20']]\n"
     ]
    }
   ],
   "source": [
    "print(ask_posts[:3])\n",
    "print(show_posts[:3])\n",
    "print(other_posts[:3])"
   ]
  },
  {
   "cell_type": "markdown",
   "metadata": {},
   "source": [
    "> To find the total number of comments in ask posts:"
   ]
  },
  {
   "cell_type": "code",
   "execution_count": 13,
   "metadata": {
    "collapsed": false
   },
   "outputs": [
    {
     "name": "stdout",
     "output_type": "stream",
     "text": [
      "14.038417431192661\n"
     ]
    }
   ],
   "source": [
    "total_ask_comments = 0\n",
    "\n",
    "for row in ask_posts:\n",
    "    total_ask_comments += int(row[4])\n",
    "\n",
    "avg_ask_comments = total_ask_comments/len(ask_posts)\n",
    "print(avg_ask_comments)"
   ]
  },
  {
   "cell_type": "code",
   "execution_count": 14,
   "metadata": {
    "collapsed": false
   },
   "outputs": [
    {
     "name": "stdout",
     "output_type": "stream",
     "text": [
      "10.31669535283993\n"
     ]
    }
   ],
   "source": [
    "total_show_comments = 0\n",
    "\n",
    "for row in show_posts:\n",
    "    total_show_comments += int(row[4])\n",
    "    \n",
    "avg_show_comments = total_show_comments/len(show_posts)\n",
    "print(avg_show_comments)"
   ]
  },
  {
   "cell_type": "markdown",
   "metadata": {},
   "source": [
    "On average 'Ask Posts' have an higher number os posts. Since ask posts receive more comments than show posts, the remaining analysis will focus on 'Ask Posts'"
   ]
  },
  {
   "cell_type": "markdown",
   "metadata": {},
   "source": [
    "# Ask Posts analysis"
   ]
  },
  {
   "cell_type": "markdown",
   "metadata": {},
   "source": [
    "It will be determined if there is a specific time that attracts more comments.\n",
    "\n",
    "To do this:\n",
    "1. Calculate the amount of ask posts created in each hour of the day, along with the number of comments received\n",
    "2. Calculate the average number of comments ask posts receive by hour created \n"
   ]
  },
  {
   "cell_type": "code",
   "execution_count": 15,
   "metadata": {
    "collapsed": true
   },
   "outputs": [],
   "source": [
    "import datetime as dt"
   ]
  },
  {
   "cell_type": "code",
   "execution_count": 29,
   "metadata": {
    "collapsed": false
   },
   "outputs": [
    {
     "data": {
      "text/plain": [
       "{'00': 55,\n",
       " '01': 60,\n",
       " '02': 58,\n",
       " '03': 54,\n",
       " '04': 47,\n",
       " '05': 46,\n",
       " '06': 44,\n",
       " '07': 34,\n",
       " '08': 48,\n",
       " '09': 45,\n",
       " '10': 59,\n",
       " '11': 58,\n",
       " '12': 73,\n",
       " '13': 85,\n",
       " '14': 107,\n",
       " '15': 116,\n",
       " '16': 108,\n",
       " '17': 100,\n",
       " '18': 109,\n",
       " '19': 110,\n",
       " '20': 80,\n",
       " '21': 109,\n",
       " '22': 71,\n",
       " '23': 68}"
      ]
     },
     "execution_count": 29,
     "metadata": {},
     "output_type": "execute_result"
    }
   ],
   "source": [
    "result_list = [] #this will be a list of lists\n",
    "\n",
    "for row in ask_posts:\n",
    "    #1st element is the 'created at', 2nd element is the number of comments\n",
    "    result_list.append(\n",
    "        [row[6], int(row[4])] \n",
    "    )\n",
    "    \n",
    "counts_by_hour = {}\n",
    "comments_by_hour = {}\n",
    "date_format = \"%m/%d/%Y %H:%M\"\n",
    "\n",
    "for row in result_list:\n",
    "    hour = row[0]\n",
    "    comment = row[1]\n",
    "    \n",
    "    objt_time = dt.datetime.strptime(hour, date_format) #convert to object datetime\n",
    "    time = objt_time.strftime(\"%H\") #extracts the hour and converts to string\n",
    "    \n",
    "    if time not in counts_by_hour:\n",
    "        counts_by_hour[time] = 1\n",
    "        comments_by_hour[time] = comment\n",
    "    else:\n",
    "        counts_by_hour[time] += 1\n",
    "        comments_by_hour[time] += comment\n",
    "        \n",
    "counts_by_hour"
   ]
  },
  {
   "cell_type": "markdown",
   "metadata": {
    "collapsed": true
   },
   "source": [
    "> PROGRESS SO FAR:\n",
    "\n",
    "Created two dictionaries:\n",
    "- `counts_by_hour`: contains the number of ask posts created during each hour of the day\n",
    "- `comments_by_hour`: contains the corresponding number of comments ask posts created at each hour recieved"
   ]
  },
  {
   "cell_type": "markdown",
   "metadata": {
    "collapsed": true
   },
   "source": [
    "> calculated the average number of comments per post for posts created during each hour of the day:"
   ]
  },
  {
   "cell_type": "code",
   "execution_count": 31,
   "metadata": {
    "collapsed": false
   },
   "outputs": [
    {
     "data": {
      "text/plain": [
       "[['11', 11.051724137931034],\n",
       " ['07', 7.852941176470588],\n",
       " ['22', 6.746478873239437],\n",
       " ['05', 10.08695652173913],\n",
       " ['17', 11.46],\n",
       " ['01', 11.383333333333333],\n",
       " ['19', 10.8],\n",
       " ['13', 14.741176470588234],\n",
       " ['00', 8.127272727272727],\n",
       " ['21', 16.009174311926607],\n",
       " ['06', 9.022727272727273],\n",
       " ['08', 10.25],\n",
       " ['14', 13.233644859813085],\n",
       " ['20', 21.525],\n",
       " ['12', 9.41095890410959],\n",
       " ['18', 13.20183486238532],\n",
       " ['16', 16.796296296296298],\n",
       " ['23', 7.985294117647059],\n",
       " ['03', 7.796296296296297],\n",
       " ['10', 13.440677966101696],\n",
       " ['15', 38.5948275862069],\n",
       " ['09', 5.5777777777777775],\n",
       " ['02', 23.810344827586206],\n",
       " ['04', 7.170212765957447]]"
      ]
     },
     "execution_count": 31,
     "metadata": {},
     "output_type": "execute_result"
    }
   ],
   "source": [
    "avg_by_hour = []\n",
    "\n",
    "for hour in comments_by_hour:\n",
    "    avg_by_hour.append([hour, comments_by_hour[hour]/counts_by_hour[hour]])\n",
    "    \n",
    "avg_by_hour"
   ]
  },
  {
   "cell_type": "markdown",
   "metadata": {
    "collapsed": true
   },
   "source": [
    "# Sorting the list\n",
    "\n",
    "And print the five highest values in a format easier to read"
   ]
  },
  {
   "cell_type": "code",
   "execution_count": 36,
   "metadata": {
    "collapsed": false
   },
   "outputs": [
    {
     "name": "stdout",
     "output_type": "stream",
     "text": [
      "[[11.051724137931034, '11'], [7.852941176470588, '07'], [6.746478873239437, '22'], [10.08695652173913, '05'], [11.46, '17'], [11.383333333333333, '01'], [10.8, '19'], [14.741176470588234, '13'], [8.127272727272727, '00'], [16.009174311926607, '21'], [9.022727272727273, '06'], [10.25, '08'], [13.233644859813085, '14'], [21.525, '20'], [9.41095890410959, '12'], [13.20183486238532, '18'], [16.796296296296298, '16'], [7.985294117647059, '23'], [7.796296296296297, '03'], [13.440677966101696, '10'], [38.5948275862069, '15'], [5.5777777777777775, '09'], [23.810344827586206, '02'], [7.170212765957447, '04']]\n"
     ]
    },
    {
     "data": {
      "text/plain": [
       "[[38.5948275862069, '15'],\n",
       " [23.810344827586206, '02'],\n",
       " [21.525, '20'],\n",
       " [16.796296296296298, '16'],\n",
       " [16.009174311926607, '21'],\n",
       " [14.741176470588234, '13'],\n",
       " [13.440677966101696, '10'],\n",
       " [13.233644859813085, '14'],\n",
       " [13.20183486238532, '18'],\n",
       " [11.46, '17'],\n",
       " [11.383333333333333, '01'],\n",
       " [11.051724137931034, '11'],\n",
       " [10.8, '19'],\n",
       " [10.25, '08'],\n",
       " [10.08695652173913, '05'],\n",
       " [9.41095890410959, '12'],\n",
       " [9.022727272727273, '06'],\n",
       " [8.127272727272727, '00'],\n",
       " [7.985294117647059, '23'],\n",
       " [7.852941176470588, '07'],\n",
       " [7.796296296296297, '03'],\n",
       " [7.170212765957447, '04'],\n",
       " [6.746478873239437, '22'],\n",
       " [5.5777777777777775, '09']]"
      ]
     },
     "execution_count": 36,
     "metadata": {},
     "output_type": "execute_result"
    }
   ],
   "source": [
    "swap_avg_by_hour = []\n",
    "\n",
    "for row in avg_by_hour:\n",
    "    swap_avg_by_hour.append([row[1], row[0]])\n",
    "\n",
    "print(swap_avg_by_hour)\n",
    "\n",
    "sorted_swap = sorted(swap_avg_by_hour, reverse=True)\n",
    "\n",
    "sorted_swap"
   ]
  },
  {
   "cell_type": "code",
   "execution_count": 56,
   "metadata": {
    "collapsed": false
   },
   "outputs": [
    {
     "name": "stdout",
     "output_type": "stream",
     "text": [
      "Top 5 Hours for Ask Posts Comments\n",
      "[converted from ET to GMT+1 (Summer Time)]\n",
      "20:00: 38.59 average comments per post\n",
      "07:00: 23.81 average comments per post\n",
      "01:00: 21.52 average comments per post\n",
      "21:00: 16.80 average comments per post\n",
      "02:00: 16.01 average comments per post\n"
     ]
    }
   ],
   "source": [
    "print(\"Top 5 Hours for Ask Posts Comments\")\n",
    "print(\"[converted from ET to GMT+1 (Summer Time)]\")\n",
    "\n",
    "for avg, hour in sorted_swap[:5]:\n",
    "    \n",
    "    lisbon_time = dt.datetime.strptime(hour, \"%H\") + dt.timedelta(hours=5)\n",
    "    print(\n",
    "        \"{}: {:.2f} average comments per post\".format(lisbon_time.strftime(\"%H:%M\"), avg\n",
    "        )\n",
    "\n",
    "    )"
   ]
  },
  {
   "cell_type": "code",
   "execution_count": 52,
   "metadata": {
    "collapsed": false
   },
   "outputs": [
    {
     "name": "stdout",
     "output_type": "stream",
     "text": [
      "1900-01-01 20:00:00\n"
     ]
    },
    {
     "data": {
      "text/plain": [
       "'20:00'"
      ]
     },
     "execution_count": 52,
     "metadata": {},
     "output_type": "execute_result"
    }
   ],
   "source": [
    "# Just a few tests to convert to Lisbon time (GMT+1 since it's Summer Time)\n",
    "\n",
    "tempo = dt.datetime.strptime(sorted_swap[0][1], \"%H\")\n",
    "gmt_tempo = tempo + dt.timedelta(hours=5)\n",
    "\n",
    "print(gmt_tempo)\n",
    "\n",
    "str_tempo = gmt_tempo.strftime(\"%H:%M\")\n",
    "\n",
    "str_tempo"
   ]
  },
  {
   "cell_type": "markdown",
   "metadata": {
    "collapsed": true
   },
   "source": [
    "# Conclusions\n",
    "\n",
    "> on average, there are more comments between 3pm-4pm ET (or 20h-21h GMT+1 - Lisbon Summer time)\n",
    "\n",
    "However posts without comments were not included, therefore this conclusion applies to posts which were commented "
   ]
  },
  {
   "cell_type": "code",
   "execution_count": null,
   "metadata": {
    "collapsed": true
   },
   "outputs": [],
   "source": []
  },
  {
   "cell_type": "code",
   "execution_count": null,
   "metadata": {
    "collapsed": true
   },
   "outputs": [],
   "source": []
  }
 ],
 "metadata": {
  "kernelspec": {
   "display_name": "Python 3",
   "language": "python",
   "name": "python3"
  },
  "language_info": {
   "codemirror_mode": {
    "name": "ipython",
    "version": 3
   },
   "file_extension": ".py",
   "mimetype": "text/x-python",
   "name": "python",
   "nbconvert_exporter": "python",
   "pygments_lexer": "ipython3",
   "version": "3.4.3"
  }
 },
 "nbformat": 4,
 "nbformat_minor": 2
}
